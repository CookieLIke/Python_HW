{
 "cells": [
  {
   "cell_type": "markdown",
   "metadata": {},
   "source": [
    "## 1.Asymptotics and sorting (deadline october 20)\n",
    "Rosalind: RNA, REVC, HAMM, FIB, HEA, BINS\n",
    "Calc asymptotics for algorithms below"
   ]
  },
  {
   "cell_type": "code",
   "execution_count": null,
   "metadata": {},
   "outputs": [],
   "source": [
    "# 0.1 points\n",
    "for i in range (n):\n",
    "    for j in range (n):\n",
    "        something() #O(1)\n",
    "        \n",
    "# О(n ** 2), так как тут два прохождение от 0 до n"
   ]
  },
  {
   "cell_type": "code",
   "execution_count": null,
   "metadata": {},
   "outputs": [],
   "source": [
    "#0.2 points\n",
    "def a(n):\n",
    "    if n == 0: return 1\n",
    "    return a(n-1) + 5\n",
    "\n",
    "# О(n), так как тут одно прохождение от 0 до n"
   ]
  },
  {
   "cell_type": "code",
   "execution_count": 4,
   "metadata": {},
   "outputs": [
    {
     "data": {
      "text/plain": [
       "10"
      ]
     },
     "execution_count": 4,
     "metadata": {},
     "output_type": "execute_result"
    }
   ],
   "source": [
    "#0.3 points\n",
    "i = 1\n",
    "\n",
    "while i < n:\n",
    "    something() #O(1)\n",
    "    i = i*2\n",
    "\n",
    "# О(sqrt(n)), так как i = i*2, то есть каждая иттерация сокрщает отрезок от 1 до i*2"
   ]
  },
  {
   "cell_type": "code",
   "execution_count": null,
   "metadata": {},
   "outputs": [],
   "source": [
    "#0.4 points\n",
    "i = 1\n",
    "j = 1\n",
    "while j < n:\n",
    "    something() #O(1)\n",
    "    j = j + i\n",
    "    i = i + 1\n",
    "    \n",
    "#Попробовав, данный алгоритм с несколькими вариантами n, и введя счетчик иттераций, пришел к выводу, что О(sqrt(n))"
   ]
  },
  {
   "cell_type": "markdown",
   "metadata": {},
   "source": [
    "## 2. Hash Table. (October 30)\n",
    "Implement hash table for elements like (key=big number, value=string), where big number is something like 57324687956.\n",
    "\n",
    "With Separate chaining - 0.7 points. With Open addressing - 1 point."
   ]
  }
 ],
 "metadata": {
  "kernelspec": {
   "display_name": "Python 3",
   "language": "python",
   "name": "python3"
  },
  "language_info": {
   "codemirror_mode": {
    "name": "ipython",
    "version": 3
   },
   "file_extension": ".py",
   "mimetype": "text/x-python",
   "name": "python",
   "nbconvert_exporter": "python",
   "pygments_lexer": "ipython3",
   "version": "3.8.3"
  }
 },
 "nbformat": 4,
 "nbformat_minor": 2
}
